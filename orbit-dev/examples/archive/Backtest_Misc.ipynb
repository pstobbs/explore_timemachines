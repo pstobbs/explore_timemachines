{
 "cells": [
  {
   "cell_type": "markdown",
   "metadata": {},
   "source": [
    "# Backtest Misc\n",
    "\n",
    "Examples of backtesting for \n",
    "* multiple series \n",
    "* multiple models"
   ]
  },
  {
   "cell_type": "code",
   "execution_count": 1,
   "metadata": {
    "ExecuteTime": {
     "end_time": "2020-05-15T09:34:40.863630Z",
     "start_time": "2020-05-15T09:34:38.688018Z"
    }
   },
   "outputs": [
    {
     "ename": "ModuleNotFoundError",
     "evalue": "No module named 'orbit.lgt'",
     "output_type": "error",
     "traceback": [
      "\u001b[0;31m---------------------------------------------------------------------------\u001b[0m",
      "\u001b[0;31mModuleNotFoundError\u001b[0m                       Traceback (most recent call last)",
      "\u001b[0;32m<ipython-input-1-1c6ff01ad6cf>\u001b[0m in \u001b[0;36m<module>\u001b[0;34m\u001b[0m\n\u001b[1;32m      5\u001b[0m \u001b[0mplt\u001b[0m\u001b[0;34m.\u001b[0m\u001b[0mstyle\u001b[0m\u001b[0;34m.\u001b[0m\u001b[0muse\u001b[0m\u001b[0;34m(\u001b[0m\u001b[0;34m'ggplot'\u001b[0m\u001b[0;34m)\u001b[0m\u001b[0;34m\u001b[0m\u001b[0;34m\u001b[0m\u001b[0m\n\u001b[1;32m      6\u001b[0m \u001b[0;34m\u001b[0m\u001b[0m\n\u001b[0;32m----> 7\u001b[0;31m \u001b[0;32mfrom\u001b[0m \u001b[0morbit\u001b[0m\u001b[0;34m.\u001b[0m\u001b[0mlgt\u001b[0m \u001b[0;32mimport\u001b[0m \u001b[0mLGT\u001b[0m\u001b[0;34m\u001b[0m\u001b[0;34m\u001b[0m\u001b[0m\n\u001b[0m\u001b[1;32m      8\u001b[0m \u001b[0;32mfrom\u001b[0m \u001b[0morbit\u001b[0m\u001b[0;34m.\u001b[0m\u001b[0mdlt\u001b[0m \u001b[0;32mimport\u001b[0m \u001b[0mDLT\u001b[0m\u001b[0;34m\u001b[0m\u001b[0;34m\u001b[0m\u001b[0m\n\u001b[1;32m      9\u001b[0m \u001b[0;32mfrom\u001b[0m \u001b[0morbit\u001b[0m\u001b[0;34m.\u001b[0m\u001b[0mbacktest\u001b[0m\u001b[0;34m.\u001b[0m\u001b[0mbacktest\u001b[0m \u001b[0;32mimport\u001b[0m \u001b[0mTimeSeriesSplitter\u001b[0m\u001b[0;34m,\u001b[0m \u001b[0mBacktest\u001b[0m\u001b[0;34m\u001b[0m\u001b[0;34m\u001b[0m\u001b[0m\n",
      "\u001b[0;31mModuleNotFoundError\u001b[0m: No module named 'orbit.lgt'"
     ]
    }
   ],
   "source": [
    "import pandas as pd\n",
    "import numpy as np\n",
    "import matplotlib.pyplot as plt\n",
    "%matplotlib inline\n",
    "plt.style.use('ggplot')\n",
    "\n",
    "from orbit.lgt import LGT\n",
    "from orbit.dlt import DLT\n",
    "from orbit.backtest.backtest import TimeSeriesSplitter, Backtest\n",
    "from orbit.utils.metrics import mape, smape, wmape\n",
    "from orbit.backtest.functions import run_multi_series_backtest"
   ]
  },
  {
   "cell_type": "markdown",
   "metadata": {},
   "source": [
    "## Load data"
   ]
  },
  {
   "cell_type": "code",
   "execution_count": null,
   "metadata": {
    "ExecuteTime": {
     "end_time": "2020-05-15T09:34:41.221011Z",
     "start_time": "2020-05-15T09:34:40.865141Z"
    }
   },
   "outputs": [],
   "source": [
    "data_path = \"../examples/data/m4_weekly.csv\"\n",
    "data = pd.read_csv(data_path, parse_dates=['date'])"
   ]
  },
  {
   "cell_type": "code",
   "execution_count": null,
   "metadata": {},
   "outputs": [],
   "source": [
    "print(\"Total keys: {}\".format(len(data['key'].unique())))\n",
    "data.head(3)"
   ]
  },
  {
   "cell_type": "markdown",
   "metadata": {},
   "source": [
    "## Settings"
   ]
  },
  {
   "cell_type": "code",
   "execution_count": null,
   "metadata": {
    "ExecuteTime": {
     "end_time": "2020-05-15T09:34:46.969800Z",
     "start_time": "2020-05-15T09:34:46.965355Z"
    }
   },
   "outputs": [],
   "source": [
    "# data settings\n",
    "date_col = \"date\"\n",
    "response_col = \"value\"\n",
    "key_col = \"key\"\n",
    "seasonality = 52\n",
    "\n",
    "# backtest settings\n",
    "min_train_len = 120\n",
    "forecast_len = 13\n",
    "incremental_len = 5\n",
    "n_splits = 1\n",
    "window_type = \"expanding\"\n",
    "seed = 2019"
   ]
  },
  {
   "cell_type": "code",
   "execution_count": null,
   "metadata": {
    "ExecuteTime": {
     "end_time": "2020-05-15T09:36:38.348355Z",
     "start_time": "2020-05-15T09:36:38.344088Z"
    }
   },
   "outputs": [],
   "source": [
    "lgt_map = LGT(\n",
    "    response_col=response_col,\n",
    "    date_col=date_col,\n",
    "    seasonality=seasonality,\n",
    "    seed=seed,\n",
    "    infer_method='map',\n",
    "    predict_method='map',\n",
    "    is_multiplicative=True\n",
    ")\n",
    "\n",
    "dlt_map = DLT(\n",
    "    response_col=response_col,\n",
    "    date_col=date_col,\n",
    "    seasonality=seasonality,\n",
    "    seed=seed,\n",
    "    infer_method='map',\n",
    "    predict_method='map',\n",
    ")\n"
   ]
  },
  {
   "cell_type": "code",
   "execution_count": null,
   "metadata": {
    "ExecuteTime": {
     "end_time": "2020-05-15T09:36:41.310569Z",
     "start_time": "2020-05-15T09:36:41.307838Z"
    }
   },
   "outputs": [],
   "source": [
    "bt_models = {\n",
    "    'LGT-MAP': lgt_map,\n",
    "    'DLT-MAP': dlt_map\n",
    "}"
   ]
  },
  {
   "cell_type": "markdown",
   "metadata": {},
   "source": [
    "## Backtest Multiple Series"
   ]
  },
  {
   "cell_type": "code",
   "execution_count": null,
   "metadata": {
    "ExecuteTime": {
     "end_time": "2020-05-15T09:35:17.441768Z",
     "start_time": "2020-05-15T09:35:11.213915Z"
    }
   },
   "outputs": [],
   "source": [
    "bt_result, bt_scores = run_multi_series_backtest(\n",
    "    data=data, \n",
    "    response_col=response_col, \n",
    "    key_col=key_col, \n",
    "    date_col=date_col,\n",
    "    model=lgt_map,\n",
    "    min_train_len=min_train_len, \n",
    "    incremental_len=incremental_len, \n",
    "    forecast_len=forecast_len, \n",
    "    predicted_col='prediction', \n",
    "    n_splits=n_splits,\n",
    "    window_type = window_type\n",
    ")"
   ]
  },
  {
   "cell_type": "code",
   "execution_count": null,
   "metadata": {
    "ExecuteTime": {
     "end_time": "2020-05-15T09:35:17.451240Z",
     "start_time": "2020-05-15T09:35:17.443990Z"
    }
   },
   "outputs": [],
   "source": [
    "bt_scores.head()"
   ]
  },
  {
   "cell_type": "markdown",
   "metadata": {},
   "source": [
    "## Backtest Multiple Models (and Multiple Series)"
   ]
  },
  {
   "cell_type": "code",
   "execution_count": null,
   "metadata": {
    "ExecuteTime": {
     "end_time": "2020-05-15T09:35:35.724253Z",
     "start_time": "2020-05-15T09:35:25.577981Z"
    }
   },
   "outputs": [],
   "source": [
    "bt_result_list = []\n",
    "bt_scores_list = []\n",
    "for mod_name, mod in bt_models.items():\n",
    "    bt_result, bt_scores = run_multi_series_backtest(\n",
    "        data=data, \n",
    "        response_col=response_col, \n",
    "        key_col=key_col, \n",
    "        date_col=date_col,\n",
    "        model=lgt_map,\n",
    "        min_train_len=min_train_len, \n",
    "        incremental_len=incremental_len, \n",
    "        forecast_len=forecast_len, \n",
    "        predicted_col='prediction', \n",
    "        n_splits=n_splits,\n",
    "        window_type = window_type\n",
    "    )\n",
    "    bt_result['model'] = mod_name\n",
    "    bt_scores['model'] = mod_name\n",
    "    bt_result_list.append(bt_result)\n",
    "    bt_scores_list.append(bt_scores)"
   ]
  },
  {
   "cell_type": "code",
   "execution_count": null,
   "metadata": {
    "ExecuteTime": {
     "end_time": "2020-05-15T09:35:35.736480Z",
     "start_time": "2020-05-15T09:35:35.726482Z"
    }
   },
   "outputs": [],
   "source": [
    "bt_result = pd.concat(bt_result_list, axis=0)\n",
    "bt_scores = pd.concat(bt_scores_list, axis=0)"
   ]
  },
  {
   "cell_type": "code",
   "execution_count": null,
   "metadata": {
    "ExecuteTime": {
     "end_time": "2020-05-15T09:35:35.748251Z",
     "start_time": "2020-05-15T09:35:35.738962Z"
    }
   },
   "outputs": [],
   "source": [
    "bt_scores.head()"
   ]
  }
 ],
 "metadata": {
  "kernelspec": {
   "display_name": "orbit",
   "language": "python",
   "name": "orbit"
  },
  "language_info": {
   "codemirror_mode": {
    "name": "ipython",
    "version": 3
   },
   "file_extension": ".py",
   "mimetype": "text/x-python",
   "name": "python",
   "nbconvert_exporter": "python",
   "pygments_lexer": "ipython3",
   "version": "3.6.8"
  },
  "toc": {
   "base_numbering": 1,
   "nav_menu": {},
   "number_sections": true,
   "sideBar": true,
   "skip_h1_title": false,
   "title_cell": "Table of Contents",
   "title_sidebar": "Contents",
   "toc_cell": false,
   "toc_position": {
    "height": "calc(100% - 180px)",
    "left": "10px",
    "top": "150px",
    "width": "306.391px"
   },
   "toc_section_display": true,
   "toc_window_display": true
  }
 },
 "nbformat": 4,
 "nbformat_minor": 4
}
