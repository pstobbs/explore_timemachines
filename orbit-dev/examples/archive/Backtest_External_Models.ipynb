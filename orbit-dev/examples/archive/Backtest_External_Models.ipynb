{
 "cells": [
  {
   "cell_type": "markdown",
   "metadata": {},
   "source": [
    "# Backtest External Models\n",
    "\n",
    "We continue to illustrate how to use `Backtest` object to gauge performance of external models. `Backtest` is designed to work for any model objects which have a `fit` method and a `predict` method, by writing some call back functions. "
   ]
  },
  {
   "cell_type": "code",
   "execution_count": 1,
   "metadata": {
    "ExecuteTime": {
     "end_time": "2020-05-21T00:41:14.475488Z",
     "start_time": "2020-05-21T00:41:13.248605Z"
    }
   },
   "outputs": [
    {
     "ename": "ModuleNotFoundError",
     "evalue": "No module named 'orbit.backtest.backtest'",
     "output_type": "error",
     "traceback": [
      "\u001b[0;31m---------------------------------------------------------------------------\u001b[0m",
      "\u001b[0;31mModuleNotFoundError\u001b[0m                       Traceback (most recent call last)",
      "\u001b[0;32m<ipython-input-1-dbff8bc8c153>\u001b[0m in \u001b[0;36m<module>\u001b[0;34m\u001b[0m\n\u001b[1;32m      5\u001b[0m \u001b[0mplt\u001b[0m\u001b[0;34m.\u001b[0m\u001b[0mstyle\u001b[0m\u001b[0;34m.\u001b[0m\u001b[0muse\u001b[0m\u001b[0;34m(\u001b[0m\u001b[0;34m'ggplot'\u001b[0m\u001b[0;34m)\u001b[0m\u001b[0;34m\u001b[0m\u001b[0;34m\u001b[0m\u001b[0m\n\u001b[1;32m      6\u001b[0m \u001b[0;34m\u001b[0m\u001b[0m\n\u001b[0;32m----> 7\u001b[0;31m \u001b[0;32mfrom\u001b[0m \u001b[0morbit\u001b[0m\u001b[0;34m.\u001b[0m\u001b[0mbacktest\u001b[0m\u001b[0;34m.\u001b[0m\u001b[0mbacktest\u001b[0m \u001b[0;32mimport\u001b[0m \u001b[0mTimeSeriesSplitter\u001b[0m\u001b[0;34m,\u001b[0m \u001b[0mBacktest\u001b[0m\u001b[0;34m\u001b[0m\u001b[0;34m\u001b[0m\u001b[0m\n\u001b[0m\u001b[1;32m      8\u001b[0m \u001b[0;32mfrom\u001b[0m \u001b[0morbit\u001b[0m\u001b[0;34m.\u001b[0m\u001b[0mutils\u001b[0m\u001b[0;34m.\u001b[0m\u001b[0mmetrics\u001b[0m \u001b[0;32mimport\u001b[0m \u001b[0mmape\u001b[0m\u001b[0;34m,\u001b[0m \u001b[0msmape\u001b[0m\u001b[0;34m,\u001b[0m \u001b[0mwmape\u001b[0m\u001b[0;34m\u001b[0m\u001b[0;34m\u001b[0m\u001b[0m\n",
      "\u001b[0;31mModuleNotFoundError\u001b[0m: No module named 'orbit.backtest.backtest'"
     ]
    }
   ],
   "source": [
    "import pandas as pd\n",
    "import numpy as np\n",
    "import matplotlib.pyplot as plt\n",
    "%matplotlib inline\n",
    "plt.style.use('ggplot')\n",
    "\n",
    "from orbit.backtest.backtest import TimeSeriesSplitter, Backtest\n",
    "from orbit.utils.metrics import mape, smape, wmape"
   ]
  },
  {
   "cell_type": "markdown",
   "metadata": {},
   "source": [
    "## Load data"
   ]
  },
  {
   "cell_type": "code",
   "execution_count": null,
   "metadata": {
    "ExecuteTime": {
     "end_time": "2020-05-21T00:41:14.508925Z",
     "start_time": "2020-05-21T00:41:14.479633Z"
    }
   },
   "outputs": [],
   "source": [
    "data_path = \"../examples/data/iclaims_example.csv\"\n",
    "raw_data = pd.read_csv(data_path, parse_dates=['week'])\n",
    "\n",
    "## log transformation\n",
    "data = raw_data.copy()\n",
    "# data[['claims', 'trend.unemploy', 'trend.filling', 'trend.job']] = \\\n",
    "#     data[['claims', 'trend.unemploy', 'trend.filling', 'trend.job']].apply(np.log, axis=1)\n",
    "\n",
    "print(data.shape)\n",
    "data.head(5)"
   ]
  },
  {
   "cell_type": "markdown",
   "metadata": {},
   "source": [
    "## Sklearn model object - Random Forest"
   ]
  },
  {
   "cell_type": "markdown",
   "metadata": {},
   "source": [
    "Declare a `TimeSeriesSplitter` and `Backtest` object."
   ]
  },
  {
   "cell_type": "code",
   "execution_count": null,
   "metadata": {
    "ExecuteTime": {
     "end_time": "2020-05-21T00:41:14.522107Z",
     "start_time": "2020-05-21T00:41:14.514918Z"
    }
   },
   "outputs": [],
   "source": [
    "splitter = TimeSeriesSplitter(data, min_train_len=200, incremental_len=20, forecast_len=20, n_splits=3)"
   ]
  },
  {
   "cell_type": "code",
   "execution_count": null,
   "metadata": {
    "ExecuteTime": {
     "end_time": "2020-05-21T00:41:14.529507Z",
     "start_time": "2020-05-21T00:41:14.524893Z"
    }
   },
   "outputs": [],
   "source": [
    "bt = Backtest(splitter=splitter)"
   ]
  },
  {
   "cell_type": "markdown",
   "metadata": {},
   "source": [
    "Next, we instantiate an sklearn model."
   ]
  },
  {
   "cell_type": "code",
   "execution_count": null,
   "metadata": {
    "ExecuteTime": {
     "end_time": "2020-05-21T00:41:14.649714Z",
     "start_time": "2020-05-21T00:41:14.532596Z"
    }
   },
   "outputs": [],
   "source": [
    "from sklearn.ensemble import RandomForestRegressor\n",
    "\n",
    "mod = RandomForestRegressor(n_estimators = 50)"
   ]
  },
  {
   "cell_type": "markdown",
   "metadata": {},
   "source": [
    "Create callback functions for the `RandomForestRegressor` model."
   ]
  },
  {
   "cell_type": "code",
   "execution_count": null,
   "metadata": {
    "ExecuteTime": {
     "end_time": "2020-05-21T00:41:14.659602Z",
     "start_time": "2020-05-21T00:41:14.652303Z"
    }
   },
   "outputs": [],
   "source": [
    "def fit_callback_sklearn(model, train_df, response_col, regressor_col):\n",
    "    y = train_df[response_col]\n",
    "    X = train_df[regressor_col]\n",
    "    model.fit(X, y)\n",
    "    return\n",
    "\n",
    "def predict_callback_sklearn(model, test_df, response_col, regressor_col):\n",
    "    X = test_df[regressor_col]\n",
    "    pred = model.predict(X)\n",
    "\n",
    "    return pd.DataFrame(pred, columns=['prediction'])\n",
    "\n",
    "# passed into fit_callback_sklearn()\n",
    "fit_predict_args = {\n",
    "    'response_col': 'claims',\n",
    "    'regressor_col': ['trend.unemploy', 'trend.filling', 'trend.job']\n",
    "}"
   ]
  },
  {
   "cell_type": "code",
   "execution_count": null,
   "metadata": {
    "ExecuteTime": {
     "end_time": "2020-05-21T00:41:15.077511Z",
     "start_time": "2020-05-21T00:41:14.665774Z"
    }
   },
   "outputs": [],
   "source": [
    "bt.fit_score(\n",
    "    mod,\n",
    "    response_col='claims',\n",
    "    predicted_col='prediction',\n",
    "    fit_callback=fit_callback_sklearn,\n",
    "    predict_callback=predict_callback_sklearn,\n",
    "    fit_args=fit_predict_args,\n",
    "    predict_args=fit_predict_args\n",
    ")\n",
    "\n",
    "bt.get_predictions().head(5)"
   ]
  },
  {
   "cell_type": "code",
   "execution_count": null,
   "metadata": {
    "ExecuteTime": {
     "end_time": "2020-05-21T00:41:15.093810Z",
     "start_time": "2020-05-21T00:41:15.080842Z"
    }
   },
   "outputs": [],
   "source": [
    "bt.get_scores()"
   ]
  },
  {
   "cell_type": "markdown",
   "metadata": {},
   "source": [
    "## Prophet model object"
   ]
  },
  {
   "cell_type": "code",
   "execution_count": null,
   "metadata": {
    "ExecuteTime": {
     "end_time": "2020-05-21T00:41:15.282504Z",
     "start_time": "2020-05-21T00:41:15.096407Z"
    }
   },
   "outputs": [],
   "source": [
    "from fbprophet import Prophet\n",
    "import inspect"
   ]
  },
  {
   "cell_type": "code",
   "execution_count": null,
   "metadata": {
    "ExecuteTime": {
     "end_time": "2020-05-21T00:41:15.296284Z",
     "start_time": "2020-05-21T00:41:15.285396Z"
    }
   },
   "outputs": [],
   "source": [
    "def model_callback_prophet(model, **kwargs):\n",
    "    object_type = type(model)\n",
    "    new_instance = object_type(**kwargs)\n",
    "    \n",
    "    return new_instance\n",
    "\n",
    "def fit_callbacks_prophet(model, train_df, date_col, response_col, regressor_col):\n",
    "    \n",
    "    train_df = train_df.rename(columns={date_col: \"ds\", response_col: \"y\"})\n",
    "    if regressor_col is not None:\n",
    "        for regressor in regressor_col:\n",
    "            model.add_regressor(regressor) \n",
    "    model.fit(train_df)\n",
    "    \n",
    "    return \n",
    "\n",
    "def pred_callbacks_prophet(model, test_df, date_col, response_col, regressor_col):\n",
    "    test_df = test_df.rename(columns={date_col: \"ds\", response_col: \"y\"})\n",
    "    \n",
    "    predictions = model.predict(test_df)\n",
    "    predictions.rename(columns={'yhat': 'prediction', 'ds': date_col}, inplace=True)\n",
    "    predictions=predictions[[date_col, 'prediction']]\n",
    "\n",
    "    return predictions\n",
    "\n",
    "fit_predict_args = {\n",
    "    'response_col': 'claims',\n",
    "    'date_col': 'week',\n",
    "    'regressor_col': ['trend.unemploy', 'trend.filling', 'trend.job']\n",
    "}"
   ]
  },
  {
   "cell_type": "code",
   "execution_count": null,
   "metadata": {
    "ExecuteTime": {
     "end_time": "2020-05-21T00:41:16.620601Z",
     "start_time": "2020-05-21T00:41:15.300514Z"
    }
   },
   "outputs": [],
   "source": [
    "mod = Prophet()"
   ]
  },
  {
   "cell_type": "markdown",
   "metadata": {},
   "source": [
    "Note: if some error pops out below (related to the pickle issue), it could be eliminated by setting `save_model=False` or upgrading your python to 3.7."
   ]
  },
  {
   "cell_type": "code",
   "execution_count": null,
   "metadata": {
    "ExecuteTime": {
     "end_time": "2020-05-21T00:41:24.177741Z",
     "start_time": "2020-05-21T00:41:16.623103Z"
    }
   },
   "outputs": [],
   "source": [
    "bt.fit_score(\n",
    "    mod,\n",
    "    response_col='claims',\n",
    "    predicted_col='prediction',\n",
    "    fit_callback=fit_callbacks_prophet,\n",
    "    predict_callback=pred_callbacks_prophet,\n",
    "    model_callback=model_callback_prophet,\n",
    "    fit_args=fit_predict_args,\n",
    "    predict_args=fit_predict_args,\n",
    ")"
   ]
  },
  {
   "cell_type": "code",
   "execution_count": null,
   "metadata": {
    "ExecuteTime": {
     "end_time": "2020-05-21T00:41:24.203016Z",
     "start_time": "2020-05-21T00:41:24.180445Z"
    }
   },
   "outputs": [],
   "source": [
    "bt.get_predictions().head()"
   ]
  },
  {
   "cell_type": "code",
   "execution_count": null,
   "metadata": {
    "ExecuteTime": {
     "end_time": "2020-05-21T00:41:24.219715Z",
     "start_time": "2020-05-21T00:41:24.205707Z"
    }
   },
   "outputs": [],
   "source": [
    "bt.get_scores()"
   ]
  }
 ],
 "metadata": {
  "kernelspec": {
   "display_name": "orbit",
   "language": "python",
   "name": "orbit"
  },
  "language_info": {
   "codemirror_mode": {
    "name": "ipython",
    "version": 3
   },
   "file_extension": ".py",
   "mimetype": "text/x-python",
   "name": "python",
   "nbconvert_exporter": "python",
   "pygments_lexer": "ipython3",
   "version": "3.6.8"
  },
  "toc": {
   "base_numbering": 1,
   "nav_menu": {},
   "number_sections": true,
   "sideBar": true,
   "skip_h1_title": false,
   "title_cell": "Table of Contents",
   "title_sidebar": "Contents",
   "toc_cell": false,
   "toc_position": {
    "height": "calc(100% - 180px)",
    "left": "10px",
    "top": "150px",
    "width": "306.391px"
   },
   "toc_section_display": true,
   "toc_window_display": true
  }
 },
 "nbformat": 4,
 "nbformat_minor": 4
}
