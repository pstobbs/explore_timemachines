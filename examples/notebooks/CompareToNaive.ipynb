{
 "cells": [
  {
   "cell_type": "markdown",
   "metadata": {
    "colab_type": "text",
    "id": "view-in-github"
   },
   "source": [
    "<a href=\"https://colab.research.google.com/github/microprediction/timemachines/blob/main/examples/notebooks/CompareToNaive.ipynb\" target=\"_parent\"><img src=\"https://colab.research.google.com/assets/colab-badge.svg\" alt=\"Open In Colab\"/></a>"
   ]
  },
  {
   "cell_type": "code",
   "execution_count": null,
   "metadata": {
    "id": "3_J2q5zchh4k"
   },
   "outputs": [],
   "source": [
    "!pip install timemachines\n",
    "!pip install --upgrade statsmodels"
   ]
  },
  {
   "cell_type": "markdown",
   "metadata": {
    "id": "KRKKP5HMlaM5"
   },
   "source": [
    "# Example of comparing against naive forecast\n",
    "For a given univariate time-series y, this runs checks against some time-series models in the timemachines library and reports any that beat the naive forecast. We proceed from models that can generate forecasts quickly to others that are more painful. First a quick plot..."
   ]
  },
  {
   "cell_type": "code",
   "execution_count": 5,
   "metadata": {
    "id": "RhgSyaQFqaEG"
   },
   "outputs": [],
   "source": [
    "import numpy as np \n",
    "import pandas as pd\n",
    "y_org = np.cumsum(np.random.randn(1000)) # <--- Swap this out for your time series \n",
    "\n"
   ]
  },
  {
   "cell_type": "code",
   "execution_count": 11,
   "metadata": {},
   "outputs": [
    {
     "name": "stdout",
     "output_type": "stream",
     "text": [
      "    series_name     start_timestamp  \\\n",
      "0            T1 2015-07-01 12:00:00   \n",
      "1            T2 2015-07-01 12:00:00   \n",
      "2            T3 2015-07-01 12:00:00   \n",
      "3            T4 2015-07-01 12:00:00   \n",
      "4            T5 2015-07-01 12:00:00   \n",
      "..          ...                 ...   \n",
      "409        T410 2017-01-01 12:00:00   \n",
      "410        T411 2017-01-01 12:00:00   \n",
      "411        T412 2017-01-01 12:00:00   \n",
      "412        T413 2017-06-12 12:00:00   \n",
      "413        T414 2017-04-27 12:00:00   \n",
      "\n",
      "                                          series_value  \n",
      "0    [605.0, 586.0, 586.0, 559.0, 511.0, 443.0, 422...  \n",
      "1    [3124.0, 2990.0, 2862.0, 2809.0, 2544.0, 2201....  \n",
      "2    [1828.0, 1806.0, 1897.0, 1750.0, 1679.0, 1620....  \n",
      "3    [6454.0, 6324.0, 6075.0, 5949.0, 5858.0, 5579....  \n",
      "4    [4263.0, 4297.0, 4236.0, 4080.0, 3883.0, 3672....  \n",
      "..                                                 ...  \n",
      "409  [153.0, 196.0, 163.0, 131.0, 82.0, 53.0, 57.0,...  \n",
      "410  [24.0, 30.0, 22.0, 14.0, 19.0, 20.0, 24.0, 45....  \n",
      "411  [19.0, 30.0, 12.0, 16.0, 13.0, 15.0, 15.0, 21....  \n",
      "412  [21.0, 16.0, 17.0, 19.0, 16.0, 22.0, 21.0, 15....  \n",
      "413  [15.0, 13.0, 13.0, 16.0, 26.0, 51.0, 91.0, 103...  \n",
      "\n",
      "[414 rows x 3 columns]\n",
      "hourly\n",
      "48\n",
      "False\n",
      "False\n"
     ]
    }
   ],
   "source": [
    "#try and load in m4 hourly tsf\n",
    "import data_loader as dl\n",
    "\n",
    "dataDir = '../data/'\n",
    "m4name = 'm4_hourly_dataset.tsf'\n",
    "#rawData = pd.read_csv(dataDir+m4name, sep='\\t')\n",
    "\n",
    "loaded_data, frequency, forecast_horizon, contain_missing_values, contain_equal_length = dl.convert_tsf_to_dataframe(dataDir+m4name)\n",
    "\n",
    "print(loaded_data)\n",
    "print(frequency)\n",
    "print(forecast_horizon)\n",
    "print(contain_missing_values)\n",
    "print(contain_equal_length)\n",
    "\n"
   ]
  },
  {
   "cell_type": "code",
   "execution_count": 3,
   "metadata": {},
   "outputs": [
    {
     "name": "stdout",
     "output_type": "stream",
     "text": [
      "     series_name     start_timestamp  \\\n",
      "0             T1 1994-01-03 12:00:00   \n",
      "1             T2 1995-01-02 12:00:00   \n",
      "2             T3 2006-01-05 12:00:00   \n",
      "3             T4 1996-05-30 12:00:00   \n",
      "4             T5 1997-01-03 12:00:00   \n",
      "...          ...                 ...   \n",
      "4222       T4223 2016-07-28 12:00:00   \n",
      "4223       T4224 2016-07-28 12:00:00   \n",
      "4224       T4225 2016-09-14 12:00:00   \n",
      "4225       T4226 2000-01-03 12:00:00   \n",
      "4226       T4227 2000-01-03 12:00:00   \n",
      "\n",
      "                                           series_value  \n",
      "0     [1017.1, 1019.3, 1017.0, 1019.2, 1018.7, 1015....  \n",
      "1     [2793.7, 2793.8, 2803.7, 2805.8, 2802.3, 2795....  \n",
      "2     [1091.3, 1088.5, 1085.7, 1082.9, 1080.1, 1077....  \n",
      "3     [1092.0, 1078.0, 1064.0, 1050.0, 1036.0, 1022....  \n",
      "4     [2938.63, 2956.44, 2964.41, 2972.41, 3014.97, ...  \n",
      "...                                                 ...  \n",
      "4222  [10000.0, 3230.0, 3238.0, 3234.0, 3225.0, 3209...  \n",
      "4223  [10000.0, 3997.0, 4000.0, 3973.0, 3963.0, 3984...  \n",
      "4224  [352000.0, 4186.0, 4171.0, 4196.0, 4184.0, 419...  \n",
      "4225  [994.16, 991.55, 976.97, 993.15, 990.79, 992.4...  \n",
      "4226  [4159.1, 4138.8, 4121.8, 4126.7, 4127.3, 4118....  \n",
      "\n",
      "[4227 rows x 3 columns]\n",
      "daily\n",
      "14\n",
      "False\n",
      "False\n"
     ]
    }
   ],
   "source": [
    "#try and load in m4 daily tsf\n",
    "import data_loader as dl\n",
    "\n",
    "dataDir = '../../../../data/'\n",
    "m4name_d = 'm4_daily_dataset.tsf'\n",
    "#rawData = pd.read_csv(dataDir+m4name, sep='\\t')\n",
    "\n",
    "loaded_data_d, frequency_d, forecast_horizon_d, contain_missing_values_d, contain_equal_length_d = dl.convert_tsf_to_dataframe(dataDir+m4name_d)\n",
    "\n",
    "print(loaded_data_d)\n",
    "print(frequency_d)\n",
    "print(forecast_horizon_d)\n",
    "print(contain_missing_values_d)\n",
    "print(contain_equal_length_d)"
   ]
  },
  {
   "cell_type": "code",
   "execution_count": 5,
   "metadata": {},
   "outputs": [
    {
     "name": "stdout",
     "output_type": "stream",
     "text": [
      "[4159.1 4138.8 4121.8 4126.7 4127.3 4118.3 4110.7 4097.7 4061.7 4029.9]\n"
     ]
    }
   ],
   "source": [
    "y = loaded_data_d.series_value[4226].to_numpy()\n",
    "#print(y_org[0:10])\n",
    "print(y[0:10])\n"
   ]
  },
  {
   "cell_type": "code",
   "execution_count": 6,
   "metadata": {
    "colab": {
     "base_uri": "https://localhost:8080/",
     "height": 265
    },
    "id": "wryoJjfUhn1g",
    "outputId": "a281eb86-2b0d-4b5b-de59-d4f7dca0b4b8"
   },
   "outputs": [
    {
     "data": {
      "image/png": "[encoded data removed]",
      "text/plain": [
       "<Figure size 640x480 with 1 Axes>"
      ]
     },
     "metadata": {},
     "output_type": "display_data"
    }
   ],
   "source": [
    "from timemachines.skatertools.visualization.priorplot import prior_plot\n",
    "import matplotlib.pyplot as plt\n",
    "from timemachines.skaters.simple.movingaverage import EMA_SKATERS\n",
    "\n",
    "# Plot an example\n",
    "f = EMA_SKATERS[0]\n",
    "k = 1 \n",
    "prior_plot(f=f, k=k, y=y, n=450, n_plot=50)\n",
    "plt.show()"
   ]
  },
  {
   "cell_type": "code",
   "execution_count": 7,
   "metadata": {
    "id": "2aIznKUXjBko"
   },
   "outputs": [],
   "source": [
    "threshold = 0.95     # What constitutes an interesting error, relative to naive\n",
    "from pprint import pprint\n",
    "from timemachines.skatertools.evaluation.evaluators import evaluate_mean_squared_error_with_sporadic_fit\n",
    "from timemachines.skaters.simple.movingaverage import empirical_last_value\n",
    "\n",
    "def report(y,k=1,models=EMA_SKATERS,n_burn=25, threshold=0.98):\n",
    "  \"\"\"\n",
    "       k         - how many step to foreast ahead\n",
    "       threshold - fraction of naive forecast error that would constitute an interesting finding\n",
    "       n_burn    - number of points to toss prior to error evaluation, to allow model to warm up\n",
    "  \"\"\"\n",
    "  #lv_err = evaluate_mean_squared_error(f=empirical_last_value, y=y, k=k, a=None, t=None, e=None, r=None, n_burn=n_burn)\n",
    "  lv_err = evaluate_mean_squared_error_with_sporadic_fit(f=empirical_last_value, y=y, k=k, a=None, t=None, e_fit=None, r=None, n_test=n_burn)\n",
    "  interesting = dict()\n",
    "  for f in models:\n",
    "      #err = evaluate_mean_squared_error_with_sporadic_fit(f=f, y=y, k=1, a=None, t=None, e=None, r=None, n_burn=25)\n",
    "      err = evaluate_mean_squared_error_with_sporadic_fit(f=f, y=y, k=1, a=None, t=None, e_fit=None, r=None, n_test=25)\n",
    "      if err<threshold*lv_err:\n",
    "        print(f.__name__+' error is '+str(err)+\" versus \"+str(lv_err)+' for naive forecast ')\n",
    "        interesting[f.__name__] = err \n",
    "  return interesting\n",
    "\n",
    "\n",
    "def print_models(models):\n",
    "    \n",
    "    for model in models:\n",
    "        print(model.__name__)\n",
    "\n"
   ]
  },
  {
   "cell_type": "markdown",
   "metadata": {
    "id": "_TGJsPLLm3Bu"
   },
   "source": [
    "# Fast models...."
   ]
  },
  {
   "cell_type": "code",
   "execution_count": 8,
   "metadata": {
    "colab": {
     "base_uri": "https://localhost:8080/"
    },
    "id": "B-JdmJHfmQtF",
    "outputId": "c025934c-cba1-4e48-a1c1-e27649a48d12"
   },
   "outputs": [
    {
     "data": {
      "text/plain": [
       "{}"
      ]
     },
     "execution_count": 8,
     "metadata": {},
     "output_type": "execute_result"
    }
   ],
   "source": [
    "from timemachines.skaters.simple.thinking import THINKING_SKATERS\n",
    "from timemachines.skaters.simple.hypocraticensemble import HYPOCRATIC_ENSEMBLE_SKATERS\n",
    "FAST_MODELS = EMA_SKATERS + THINKING_SKATERS+HYPOCRATIC_ENSEMBLE_SKATERS\n",
    "report(y=y,k=k,models=EMA_SKATERS + THINKING_SKATERS+HYPOCRATIC_ENSEMBLE_SKATERS)"
   ]
  },
  {
   "cell_type": "markdown",
   "metadata": {
    "id": "2sc5jAxom7Ii"
   },
   "source": [
    "# Slow models"
   ]
  },
  {
   "cell_type": "code",
   "execution_count": null,
   "metadata": {
    "id": "8U568oIwmznt"
   },
   "outputs": [
    {
     "name": "stderr",
     "output_type": "stream",
     "text": [
      "/Users/piers/gitprojects/explore/explore_timemachines/.venv/lib/python3.9/site-packages/statsmodels/tsa/statespace/sarimax.py:966: UserWarning: Non-stationary starting autoregressive parameters found. Using zeros as starting parameters.\n",
      "  warn('Non-stationary starting autoregressive parameters'\n",
      "/Users/piers/gitprojects/explore/explore_timemachines/.venv/lib/python3.9/site-packages/statsmodels/tsa/statespace/sarimax.py:966: UserWarning: Non-stationary starting autoregressive parameters found. Using zeros as starting parameters.\n",
      "  warn('Non-stationary starting autoregressive parameters'\n"
     ]
    },
    {
     "name": "stdout",
     "output_type": "stream",
     "text": [
      "tsa_p2_d0_q0 error is 46774.434637551516 versus 47853.10879999999 for naive forecast \n"
     ]
    },
    {
     "name": "stderr",
     "output_type": "stream",
     "text": [
      "/Users/piers/gitprojects/explore/explore_timemachines/.venv/lib/python3.9/site-packages/statsmodels/tsa/statespace/sarimax.py:966: UserWarning: Non-stationary starting autoregressive parameters found. Using zeros as starting parameters.\n",
      "  warn('Non-stationary starting autoregressive parameters'\n",
      "/Users/piers/gitprojects/explore/explore_timemachines/.venv/lib/python3.9/site-packages/statsmodels/tsa/statespace/sarimax.py:966: UserWarning: Non-stationary starting autoregressive parameters found. Using zeros as starting parameters.\n",
      "  warn('Non-stationary starting autoregressive parameters'\n"
     ]
    },
    {
     "name": "stdout",
     "output_type": "stream",
     "text": [
      "tsa_p1_d0_q1 error is 46841.0802365072 versus 47853.10879999999 for naive forecast \n"
     ]
    },
    {
     "name": "stderr",
     "output_type": "stream",
     "text": [
      "/Users/piers/gitprojects/explore/explore_timemachines/.venv/lib/python3.9/site-packages/statsmodels/tsa/statespace/sarimax.py:966: UserWarning: Non-stationary starting autoregressive parameters found. Using zeros as starting parameters.\n",
      "  warn('Non-stationary starting autoregressive parameters'\n",
      "/Users/piers/gitprojects/explore/explore_timemachines/.venv/lib/python3.9/site-packages/statsmodels/tsa/statespace/sarimax.py:978: UserWarning: Non-invertible starting MA parameters found. Using zeros as starting parameters.\n",
      "  warn('Non-invertible starting MA parameters found.'\n",
      "/Users/piers/gitprojects/explore/explore_timemachines/.venv/lib/python3.9/site-packages/statsmodels/tsa/statespace/sarimax.py:966: UserWarning: Non-stationary starting autoregressive parameters found. Using zeros as starting parameters.\n",
      "  warn('Non-stationary starting autoregressive parameters'\n"
     ]
    }
   ],
   "source": [
    "from timemachines.skaters.tsa.alltsaskaters import TSA_SKATERS # might also consider DLM\n",
    "SLOW_MODELS = TSA_SKATERS\n",
    "report(y=y,k=k,models=SLOW_MODELS)"
   ]
  },
  {
   "cell_type": "markdown",
   "metadata": {
    "id": "XgSxmaDlnFRh"
   },
   "source": [
    "# Interminable models\n",
    "This is here really to make the point that some models are intended for one-off forecasting on a historical data set. Don't hold your breath waiting for this to run. "
   ]
  },
  {
   "cell_type": "code",
   "execution_count": 39,
   "metadata": {
    "id": "vRn6MzAInMJ7"
   },
   "outputs": [
    {
     "name": "stdout",
     "output_type": "stream",
     "text": [
      "fbprophet_univariate\n",
      "nprophet_p1\n",
      "nprophet_p2\n",
      "nprophet_p3\n",
      "nprophet_p5\n",
      "nprophet_p8\n"
     ]
    }
   ],
   "source": [
    "from timemachines.skaters.proph.prophskaterssingular import fbprophet_univariate\n",
    "from timemachines.skaters.nproph.nprophetskaters import NPROPHET_UNIVARIATE_SKATERS\n",
    "INTERMINABLE_MODELS = [fbprophet_univariate] + NPROPHET_UNIVARIATE_SKATERS\n",
    "#report(y=y,k=k,models=INTERMINABLE_MODELS)\n",
    "print_models(INTERMINABLE_MODELS)"
   ]
  },
  {
   "cell_type": "code",
   "execution_count": null,
   "metadata": {},
   "outputs": [],
   "source": []
  },
  {
   "cell_type": "markdown",
   "metadata": {},
   "source": [
    "## Try prophet"
   ]
  },
  {
   "cell_type": "code",
   "execution_count": 43,
   "metadata": {},
   "outputs": [
    {
     "name": "stdout",
     "output_type": "stream",
     "text": [
      "fbprophet_univariate\n",
      "fbprophet_univariate error is 1007.450221892699 versus 1560.0 for naive forecast \n"
     ]
    },
    {
     "data": {
      "text/plain": [
       "{'fbprophet_univariate': 1007.450221892699}"
      ]
     },
     "execution_count": 43,
     "metadata": {},
     "output_type": "execute_result"
    }
   ],
   "source": [
    "from timemachines.skaters.proph.prophskaterssingular import fbprophet_univariate\n",
    "#from timemachines.skaters.nproph.nprophetskaters import NPROPHET_UNIVARIATE_SKATERS\n",
    "PROPHET_MODELS = [fbprophet_univariate]\n",
    "print_models(PROPHET_MODELS)\n",
    "report(y=y,k=k,models=PROPHET_MODELS)"
   ]
  },
  {
   "cell_type": "code",
   "execution_count": 44,
   "metadata": {},
   "outputs": [
    {
     "name": "stdout",
     "output_type": "stream",
     "text": [
      "fbprophet_exogenous\n",
      "fbprophet_known\n",
      "fbprophet_univariate\n",
      "fbprophet_recursive\n",
      "fbprophet_cautious\n",
      "fbprophet_exogenous_hypocratic\n",
      "fbprophet_univariate_hypocratic\n",
      "fbprophet_cautious_hypocratic\n",
      "fbprophet_exogenous_exogenous\n",
      "fbprophet_univariate_univariate_hypocratic\n",
      "fbprophet_exogenous error is 1007.450221892699 versus 1560.0 for naive forecast \n",
      "fbprophet_known error is 1007.450221892699 versus 1560.0 for naive forecast \n",
      "fbprophet_univariate error is 1007.450221892699 versus 1560.0 for naive forecast \n",
      "fbprophet_recursive error is 1007.450221892699 versus 1560.0 for naive forecast \n",
      "fbprophet_cautious error is 959.7962285216222 versus 1560.0 for naive forecast \n",
      "fbprophet_exogenous_hypocratic error is 794.803742577559 versus 1560.0 for naive forecast \n",
      "fbprophet_univariate_hypocratic error is 794.803742577559 versus 1560.0 for naive forecast \n",
      "fbprophet_cautious_hypocratic error is 800.2872097180681 versus 1560.0 for naive forecast \n",
      "fbprophet_univariate_univariate_hypocratic error is 1520.4361362495265 versus 1560.0 for naive forecast \n"
     ]
    },
    {
     "data": {
      "text/plain": [
       "{'fbprophet_exogenous': 1007.450221892699,\n",
       " 'fbprophet_known': 1007.450221892699,\n",
       " 'fbprophet_univariate': 1007.450221892699,\n",
       " 'fbprophet_recursive': 1007.450221892699,\n",
       " 'fbprophet_cautious': 959.7962285216222,\n",
       " 'fbprophet_exogenous_hypocratic': 794.803742577559,\n",
       " 'fbprophet_univariate_hypocratic': 794.803742577559,\n",
       " 'fbprophet_cautious_hypocratic': 800.2872097180681,\n",
       " 'fbprophet_univariate_univariate_hypocratic': 1520.4361362495265}"
      ]
     },
     "execution_count": 44,
     "metadata": {},
     "output_type": "execute_result"
    }
   ],
   "source": [
    "from timemachines.skaters.proph.allprophetskaters import PROPHET_SKATERS\n",
    "#from timemachines.skaters.nproph.nprophetskaters import NPROPHET_UNIVARIATE_SKATERS\n",
    "#PROPHET_MODELS = [fbprophet_univariate]\n",
    "print_models(PROPHET_SKATERS)\n",
    "report(y=y,k=k,models=PROPHET_SKATERS)"
   ]
  },
  {
   "cell_type": "code",
   "execution_count": null,
   "metadata": {},
   "outputs": [],
   "source": []
  }
 ],
 "metadata": {
  "colab": {
   "authorship_tag": "ABX9TyMbyIvm78Q5UkHYi0EUYjsG",
   "collapsed_sections": [],
   "include_colab_link": true,
   "name": "CompareToNaive.ipynb",
   "provenance": []
  },
  "kernelspec": {
   "display_name": "Python 3 (ipykernel)",
   "language": "python",
   "name": "python3"
  },
  "language_info": {
   "codemirror_mode": {
    "name": "ipython",
    "version": 3
   },
   "file_extension": ".py",
   "mimetype": "text/x-python",
   "name": "python",
   "nbconvert_exporter": "python",
   "pygments_lexer": "ipython3",
   "version": "3.9.13"
  }
 },
 "nbformat": 4,
 "nbformat_minor": 4
}
