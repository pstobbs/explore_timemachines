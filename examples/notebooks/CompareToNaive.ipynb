{
  "nbformat": 4,
  "nbformat_minor": 0,
  "metadata": {
    "colab": {
      "name": "CompareToNaive.ipynb",
      "provenance": [],
      "collapsed_sections": [],
      "authorship_tag": "ABX9TyMbyIvm78Q5UkHYi0EUYjsG",
      "include_colab_link": true
    },
    "kernelspec": {
      "name": "python3",
      "display_name": "Python 3"
    },
    "language_info": {
      "name": "python"
    }
  },
  "cells": [
    {
      "cell_type": "markdown",
      "metadata": {
        "id": "view-in-github",
        "colab_type": "text"
      },
      "source": [
        "<a href=\"https://colab.research.google.com/github/microprediction/timemachines/blob/main/examples/notebooks/CompareToNaive.ipynb\" target=\"_parent\"><img src=\"https://colab.research.google.com/assets/colab-badge.svg\" alt=\"Open In Colab\"/></a>"
      ]
    },
    {
      "cell_type": "code",
      "metadata": {
        "id": "3_J2q5zchh4k"
      },
      "source": [
        "!pip install timemachines\n",
        "!pip install --upgrade statsmodels"
      ],
      "execution_count": null,
      "outputs": []
    },
    {
      "cell_type": "markdown",
      "metadata": {
        "id": "KRKKP5HMlaM5"
      },
      "source": [
        "# Example of comparing against naive forecast\n",
        "For a given univariate time-series y, this runs checks against some time-series models in the timemachines library and reports any that beat the naive forecast. We proceed from models that can generate forecasts quickly to others that are more painful. First a quick plot..."
      ]
    },
    {
      "cell_type": "code",
      "metadata": {
        "id": "RhgSyaQFqaEG"
      },
      "source": [
        "import numpy as np \n",
        "y = np.cumsum(np.random.randn(1000)) # <--- Swap this out for your time series "
      ],
      "execution_count": null,
      "outputs": []
    },
    {
      "cell_type": "code",
      "metadata": {
        "colab": {
          "base_uri": "https://localhost:8080/",
          "height": 265
        },
        "id": "wryoJjfUhn1g",
        "outputId": "a281eb86-2b0d-4b5b-de59-d4f7dca0b4b8"
      },
      "source": [
        "from timemachines.skatertools.visualization.priorplot import prior_plot\n",
        "import matplotlib.pyplot as plt\n",
        "from timemachines.skaters.simple.movingaverage import EMA_SKATERS\n",
        "\n",
        "# Plot an example\n",
        "f = EMA_SKATERS[0]\n",
        "k = 1 \n",
        "prior_plot(f=f, k=k, y=y, n=450, n_plot=50)\n",
        "plt.show()"
      ],
      "execution_count": 4,
      "outputs": [
        {
          "output_type": "display_data",
          "data": {
            "image/png": "[encoded data removed]",
            "text/plain": [
              "<Figure size 432x288 with 1 Axes>"
            ]
          },
          "metadata": {
            "tags": [],
            "needs_background": "light"
          }
        }
      ]
    },
    {
      "cell_type": "code",
      "metadata": {
        "id": "2aIznKUXjBko"
      },
      "source": [
        "threshold = 0.95     # What constitutes an interesting error, relative to naive\n",
        "from pprint import pprint\n",
        "from timemachines.skatertools.evaluation.evaluators import evaluate_mean_squared_error\n",
        "from timemachines.skaters.simple.movingaverage import empirical_last_value\n",
        "\n",
        "def report(y,k=1,models=EMA_SKATERS,n_burn=25, threshold=0.98):\n",
        "  \"\"\"\n",
        "       k         - how many step to foreast ahead\n",
        "       threshold - fraction of naive forecast error that would constitute an interesting finding\n",
        "       n_burn    - number of points to toss prior to error evaluation, to allow model to warm up\n",
        "  \"\"\"\n",
        "  lv_err = evaluate_mean_squared_error(f=empirical_last_value, y=y, k=k, a=None, t=None, e=None, r=None, n_burn=n_burn)\n",
        "  interesting = dict()\n",
        "  for f in models:\n",
        "      err = evaluate_mean_squared_error(f=f, y=y, k=1, a=None, t=None, e=None, r=None, n_burn=25)\n",
        "      if err<threshold*lv_err:\n",
        "        print(f.__name__+' error is '+str(err)+\" versus \"+str(lv_err)+' for naive forecast ')\n",
        "        interesting[f.__name__] = err \n",
        "  return interesting"
      ],
      "execution_count": 9,
      "outputs": []
    },
    {
      "cell_type": "markdown",
      "metadata": {
        "id": "_TGJsPLLm3Bu"
      },
      "source": [
        "# Fast models...."
      ]
    },
    {
      "cell_type": "code",
      "metadata": {
        "colab": {
          "base_uri": "https://localhost:8080/"
        },
        "id": "B-JdmJHfmQtF",
        "outputId": "c025934c-cba1-4e48-a1c1-e27649a48d12"
      },
      "source": [
        "from timemachines.skaters.simple.thinking import THINKING_SKATERS\n",
        "from timemachines.skaters.simple.hypocraticensemble import HYPOCRATIC_ENSEMBLE_SKATERS\n",
        "FAST_MODELS = EMA_SKATERS + THINKING_SKATERS+HYPOCRATIC_ENSEMBLE_SKATERS\n",
        "report(y=y,k=k,models=EMA_SKATERS + THINKING_SKATERS+HYPOCRATIC_ENSEMBLE_SKATERS)"
      ],
      "execution_count": 10,
      "outputs": [
        {
          "output_type": "execute_result",
          "data": {
            "text/plain": [
              "{}"
            ]
          },
          "metadata": {
            "tags": []
          },
          "execution_count": 10
        }
      ]
    },
    {
      "cell_type": "markdown",
      "metadata": {
        "id": "2sc5jAxom7Ii"
      },
      "source": [
        "# Slow models"
      ]
    },
    {
      "cell_type": "code",
      "metadata": {
        "id": "8U568oIwmznt"
      },
      "source": [
        "from timemachines.skaters.tsa.alltsaskaters import TSA_SKATERS # might also consider DLM\n",
        "SLOW_MODELS = TSA_SKATERS\n",
        "report(y=y,k=k,models=SLOW_MODELS)"
      ],
      "execution_count": null,
      "outputs": []
    },
    {
      "cell_type": "markdown",
      "metadata": {
        "id": "XgSxmaDlnFRh"
      },
      "source": [
        "# Interminable models\n",
        "This is here really to make the point that some models are intended for one-off forecasting on a historical data set. Don't hold your breath waiting for this to run. "
      ]
    },
    {
      "cell_type": "code",
      "metadata": {
        "id": "vRn6MzAInMJ7"
      },
      "source": [
        "from timemachines.skaters.prop.prophetskaterssingular import fbprophet_univariate\n",
        "from timemachines.skaters.nproph.nprophetskaters import NPROPHET_UNIVARIATE_SKATERS\n",
        "INTERMINABLE_MODELS = [fbprophet_univariate] + NPROPHET_UNIVARIATE_SKATERS\n",
        "report(y=y,k=k,models=INTERMINABLE_MODELS)"
      ],
      "execution_count": null,
      "outputs": []
    }
  ]
}
