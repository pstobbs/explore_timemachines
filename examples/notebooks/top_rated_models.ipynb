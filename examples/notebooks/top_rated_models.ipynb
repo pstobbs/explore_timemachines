{
 "cells": [
  {
   "cell_type": "markdown",
   "metadata": {
    "colab_type": "text",
    "id": "view-in-github"
   },
   "source": [
    "<a href=\"https://colab.research.google.com/github/microprediction/timemachines/blob/main/top_rated_models.ipynb\" target=\"_parent\"><img src=\"https://colab.research.google.com/assets/colab-badge.svg\" alt=\"Open In Colab\"/></a>"
   ]
  },
  {
   "cell_type": "code",
   "execution_count": null,
   "metadata": {
    "id": "3pkflLaEaGp4"
   },
   "outputs": [],
   "source": [
    "!pip install timemachines"
   ]
  },
  {
   "cell_type": "markdown",
   "metadata": {
    "id": "zdm19JJKaK2W"
   },
   "source": [
    "## The top rated models\n",
    "If we haven't installed much. "
   ]
  },
  {
   "cell_type": "code",
   "execution_count": 1,
   "metadata": {
    "colab": {
     "base_uri": "https://localhost:8080/"
    },
    "id": "59iXKsXdaRE8",
    "outputId": "672efc76-8afc-446e-974b-99d46877dbbf"
   },
   "outputs": [
    {
     "name": "stdout",
     "output_type": "stream",
     "text": [
      "k=1\n",
      "[<function tsa_p2_d0_q1 at 0x124eafca0>,\n",
      " <function quick_aggressive_ema_ensemble at 0x10ecdfb80>,\n",
      " <function tsa_p3_d0_q1 at 0x124eafd30>,\n",
      " <function sk_theta at 0x128773820>,\n",
      " <function orbit_lgt_24 at 0x12871bc10>]\n",
      "\n",
      "k=5\n",
      "[<function tsa_p2_d0_q1 at 0x124eafca0>,\n",
      " <function quick_aggressive_ema_ensemble at 0x10ecdfb80>,\n",
      " <function tsa_aggressive_d0_ensemble at 0x124ecc280>,\n",
      " <function tsa_p1_d0_q1 at 0x124eafc10>,\n",
      " <function tsa_p3_d0_q1 at 0x124eafd30>]\n",
      "\n",
      "k=13\n",
      "[<function thinking_precision_ensemble at 0x10ecdf8b0>,\n",
      " <function tsa_p1_d0_q1 at 0x124eafc10>,\n",
      " <function tsa_precision_d0_ensemble at 0x124ebe3a0>,\n",
      " <function thinking_slow_and_fast at 0x10ecdf160>,\n",
      " <function slowly_moving_average at 0x10ecd7a60>]\n",
      "\n"
     ]
    }
   ],
   "source": [
    "from timemachines.skatertools.recommendations.suggestions import top_rated_models, get_ratings\n",
    "from pprint import pprint \n",
    "max_seconds = 1\n",
    "min_count = 10\n",
    "for k in [1,5,13]:\n",
    "   print('k='+str(k))\n",
    "   suggestions = top_rated_models(k=k,max_seconds=500, require_passing=True)\n",
    "   pprint(suggestions)\n",
    "   print('')\n",
    "\n"
   ]
  },
  {
   "cell_type": "code",
   "execution_count": null,
   "metadata": {
    "id": "lM9z2jzhfOAL"
   },
   "outputs": [],
   "source": []
  },
  {
   "cell_type": "markdown",
   "metadata": {
    "id": "pZRWy5w3bC4H"
   },
   "source": [
    "##.. with a few packages installed"
   ]
  },
  {
   "cell_type": "code",
   "execution_count": null,
   "metadata": {
    "id": "DPTuHzp-bdj2"
   },
   "outputs": [],
   "source": [
    "!pip install sktime\n",
    "!pip install --upgrade darts\n",
    "!pip install --ugprade sktime\n",
    "!pip install --upgrade tbats\n",
    "!pip install --upgrade orbit-ml\n",
    "!pip install --upgrade pydlm\n",
    "!pip install --upgrade divinity\n",
    "!pip install --upgrade pmdarima\n",
    "!pip install --upgrade prophet\n",
    "!pip install --upgrade neuralprophet\n",
    "!pip install --upgrade greykite\n",
    "!pip install --upgrade orbit-ml\n",
    "!pip install --upgrade git+https://github.com/oseiskar/simdkalman"
   ]
  },
  {
   "cell_type": "code",
   "execution_count": 2,
   "metadata": {
    "colab": {
     "base_uri": "https://localhost:8080/"
    },
    "id": "dTN1loNrfOiU",
    "outputId": "0110840c-92d8-45d3-ab06-ca70dd2ce5b3"
   },
   "outputs": [
    {
     "name": "stdout",
     "output_type": "stream",
     "text": [
      "k=1\n",
      "[<function quick_aggressive_ema_ensemble at 0x10ecdfb80>,\n",
      " <function sk_theta at 0x128773820>,\n",
      " <function tsa_p1_d0_q0 at 0x124eafa60>,\n",
      " <function balanced_ema_ensemble at 0x10ecd7ca0>,\n",
      " <function tsa_balanced_theta_ensemble at 0x124ecc3a0>]\n",
      "\n",
      "k=5\n",
      "[<function quick_aggressive_ema_ensemble at 0x10ecdfb80>,\n",
      " <function tsa_p3_d0_q1 at 0x124eafd30>,\n",
      " <function sk_ae_add at 0x128f4e0d0>,\n",
      " <function slow_precision_ema_ensemble at 0x10ecdfd30>,\n",
      " <function quickly_moving_average at 0x10ecd7af0>]\n",
      "\n",
      "k=13\n",
      "[<function thinking_precision_ensemble at 0x10ecdf8b0>,\n",
      " <function tsa_p1_d0_q1 at 0x124eafc10>,\n",
      " <function thinking_slow_and_fast at 0x10ecdf160>,\n",
      " <function slowly_moving_average at 0x10ecd7a60>,\n",
      " <function bats_damped_arma at 0x128773310>]\n",
      "\n"
     ]
    }
   ],
   "source": [
    "for k in [1,5,13]:\n",
    "   print('k='+str(k))\n",
    "   suggestions = top_rated_models(k=k,max_seconds=70)\n",
    "   pprint(suggestions)\n",
    "   print('')"
   ]
  },
  {
   "cell_type": "code",
   "execution_count": null,
   "metadata": {},
   "outputs": [],
   "source": []
  }
 ],
 "metadata": {
  "colab": {
   "authorship_tag": "ABX9TyPmuYjFaVDkJRxXRNycNvKQ",
   "collapsed_sections": [],
   "include_colab_link": true,
   "name": "top_rated_models.ipynb",
   "provenance": []
  },
  "kernelspec": {
   "display_name": "Python 3 (ipykernel)",
   "language": "python",
   "name": "python3"
  },
  "language_info": {
   "codemirror_mode": {
    "name": "ipython",
    "version": 3
   },
   "file_extension": ".py",
   "mimetype": "text/x-python",
   "name": "python",
   "nbconvert_exporter": "python",
   "pygments_lexer": "ipython3",
   "version": "3.9.13"
  }
 },
 "nbformat": 4,
 "nbformat_minor": 4
}
