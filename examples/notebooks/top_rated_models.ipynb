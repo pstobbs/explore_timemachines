{
  "nbformat": 4,
  "nbformat_minor": 0,
  "metadata": {
    "colab": {
      "name": "top_rated_models.ipynb",
      "provenance": [],
      "collapsed_sections": [],
      "authorship_tag": "ABX9TyPmuYjFaVDkJRxXRNycNvKQ",
      "include_colab_link": true
    },
    "kernelspec": {
      "name": "python3",
      "display_name": "Python 3"
    },
    "language_info": {
      "name": "python"
    }
  },
  "cells": [
    {
      "cell_type": "markdown",
      "metadata": {
        "id": "view-in-github",
        "colab_type": "text"
      },
      "source": [
        "<a href=\"https://colab.research.google.com/github/microprediction/timemachines/blob/main/top_rated_models.ipynb\" target=\"_parent\"><img src=\"https://colab.research.google.com/assets/colab-badge.svg\" alt=\"Open In Colab\"/></a>"
      ]
    },
    {
      "cell_type": "code",
      "metadata": {
        "id": "3pkflLaEaGp4"
      },
      "source": [
        "!pip install timemachines"
      ],
      "execution_count": null,
      "outputs": []
    },
    {
      "cell_type": "markdown",
      "metadata": {
        "id": "zdm19JJKaK2W"
      },
      "source": [
        "## The top rated models\n",
        "If we haven't installed much. "
      ]
    },
    {
      "cell_type": "code",
      "metadata": {
        "colab": {
          "base_uri": "https://localhost:8080/"
        },
        "id": "59iXKsXdaRE8",
        "outputId": "672efc76-8afc-446e-974b-99d46877dbbf"
      },
      "source": [
        "from timemachines.skatertools.recommendations.suggestions import top_rated_models, get_ratings\n",
        "from pprint import pprint \n",
        "max_seconds = 1\n",
        "min_count = 10\n",
        "for k in [1,5,13]:\n",
        "   print('k='+str(k))\n",
        "   suggestions = top_rated_models(k=k,max_seconds=500, require_passing=True)\n",
        "   pprint(suggestions)\n",
        "   print('')\n",
        "\n"
      ],
      "execution_count": 6,
      "outputs": [
        {
          "output_type": "stream",
          "name": "stdout",
          "text": [
            "k=1\n",
            "[<function tsa_precision_d0_ensemble at 0x7fe99ff0b050>,\n",
            " <function quick_balanced_ema_ensemble at 0x7fe9c1c9b8c0>,\n",
            " <function smdk_p5_d0_q3_n1000 at 0x7fe9416e8170>,\n",
            " <function tsa_p2_d0_q0 at 0x7fe99ff0b0e0>,\n",
            " <function quick_aggressive_ema_ensemble at 0x7fe9c1c9c200>]\n",
            "\n",
            "k=5\n",
            "[<function tsa_aggressive_d0_ensemble at 0x7fe99ff19290>,\n",
            " <function sk_autoarima at 0x7fe94390b830>,\n",
            " <function thinking_slow_and_fast at 0x7fe9c1c8cb00>,\n",
            " <function tsa_p3_d0_q0 at 0x7fe99ff0b200>,\n",
            " <function tsa_p2_d0_q0 at 0x7fe99ff0b0e0>]\n",
            "\n",
            "k=13\n",
            "[<function tsa_p1_d0_q1 at 0x7fe99ff0b290>,\n",
            " <function tsa_p2_d0_q1 at 0x7fe99ff0b320>,\n",
            " <function tsa_slowly_hypocratic_d0_ensemble at 0x7fe99ff1f7a0>,\n",
            " <function tsa_quickly_hypocratic_d0_ensemble at 0x7fe99ff1f830>,\n",
            " <function slowly_moving_average at 0x7fe9c1c8c170>]\n",
            "\n"
          ]
        }
      ]
    },
    {
      "cell_type": "code",
      "metadata": {
        "id": "lM9z2jzhfOAL"
      },
      "source": [
        ""
      ],
      "execution_count": null,
      "outputs": []
    },
    {
      "cell_type": "markdown",
      "metadata": {
        "id": "pZRWy5w3bC4H"
      },
      "source": [
        "##.. with a few packages installed"
      ]
    },
    {
      "cell_type": "code",
      "metadata": {
        "id": "DPTuHzp-bdj2"
      },
      "source": [
        "!pip install sktime\n",
        "!pip install --upgrade darts\n",
        "!pip install --ugprade sktime\n",
        "!pip install --upgrade tbats\n",
        "!pip install --upgrade orbit-ml\n",
        "!pip install --upgrade pydlm\n",
        "!pip install --upgrade divinity\n",
        "!pip install --upgrade pmdarima\n",
        "!pip install --upgrade prophet\n",
        "!pip install --upgrade neuralprophet\n",
        "!pip install --upgrade greykite\n",
        "!pip install --upgrade orbit-ml\n",
        "!pip install --upgrade git+https://github.com/oseiskar/simdkalman"
      ],
      "execution_count": null,
      "outputs": []
    },
    {
      "cell_type": "code",
      "metadata": {
        "colab": {
          "base_uri": "https://localhost:8080/"
        },
        "id": "dTN1loNrfOiU",
        "outputId": "0110840c-92d8-45d3-ab06-ca70dd2ce5b3"
      },
      "source": [
        "for k in [1,5,13]:\n",
        "   print('k='+str(k))\n",
        "   suggestions = top_rated_models(k=k,max_seconds=70)\n",
        "   pprint(suggestions)\n",
        "   print('')"
      ],
      "execution_count": 7,
      "outputs": [
        {
          "output_type": "stream",
          "name": "stdout",
          "text": [
            "k=1\n",
            "[<function quick_balanced_ema_ensemble at 0x7fe9c1c9b8c0>,\n",
            " <function smdk_p5_d0_q3_n1000 at 0x7fe9416e8170>,\n",
            " <function tsa_p2_d0_q0 at 0x7fe99ff0b0e0>,\n",
            " <function quick_aggressive_ema_ensemble at 0x7fe9c1c9c200>,\n",
            " <function tsa_p2_d0_q1 at 0x7fe99ff0b320>]\n",
            "\n",
            "k=5\n",
            "[<function thinking_slow_and_fast at 0x7fe9c1c8cb00>,\n",
            " <function tsa_p2_d0_q0 at 0x7fe99ff0b0e0>,\n",
            " <function precision_ema_ensemble at 0x7fe9c1c8c320>,\n",
            " <function quick_aggressive_ema_ensemble at 0x7fe9c1c9c200>,\n",
            " <function slow_precision_ema_ensemble at 0x7fe9c1c9c3b0>]\n",
            "\n",
            "k=13\n",
            "[<function tsa_p2_d0_q1 at 0x7fe99ff0b320>,\n",
            " <function slowly_moving_average at 0x7fe9c1c8c170>,\n",
            " <function tsa_p1_d0_q0 at 0x7fe99ff0b170>,\n",
            " <function tsa_p3_d0_q0 at 0x7fe99ff0b200>,\n",
            " <function divine_univariate_hypocratic_slow at 0x7fe9c1c26440>]\n",
            "\n"
          ]
        }
      ]
    }
  ]
}
